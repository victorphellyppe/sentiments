{
 "cells": [
  {
   "cell_type": "code",
   "execution_count": 1,
   "metadata": {},
   "outputs": [],
   "source": [
    "import pandas as pd\n",
    "from textblob import TextBlob as tb\n",
    "import tweepy\n",
    "import numpy as np"
   ]
  },
  {
   "cell_type": "code",
   "execution_count": 2,
   "metadata": {},
   "outputs": [],
   "source": [
    "consumer_key = \"KbFs1gm81GzbrjmTIvAtHt4Hi\"\n",
    "consumer_secret = \"EOfNwWn92GLerSTlq5noUAlOwV1SwTU6604bcLpF6bCEnHOTkj\"\n",
    "\n",
    "acess_token = \"37001074-1DWSPvDmJN1ybxgraANLChCn9EAHM0uvxGjEF3eh2\"\n",
    "acess_token_secret = \"jOVuQCro7yDPDXVz14O8x1tmde5uy34pGpL8Xtj0UiXUq\""
   ]
  },
  {
   "cell_type": "code",
   "execution_count": 3,
   "metadata": {},
   "outputs": [],
   "source": [
    "auth = tweepy.OAuthHandler(consumer_key, consumer_secret)\n",
    "auth.set_access_token(acess_token,acess_token_secret)\n",
    "api = tweepy.API(auth)"
   ]
  },
  {
   "cell_type": "code",
   "execution_count": 22,
   "metadata": {},
   "outputs": [],
   "source": [
    "#a variavel vai armazenar todos os tweets com a palavra definida na função search\n",
    "public_tweets = api.search(\"Trump\")"
   ]
  },
  {
   "cell_type": "code",
   "execution_count": 23,
   "metadata": {},
   "outputs": [],
   "source": [
    "#a variavel ira armazenar as polaridades, ou  seja os usuarios que estão falando do bolsonaro\n",
    "analisys = None"
   ]
  },
  {
   "cell_type": "code",
   "execution_count": 24,
   "metadata": {},
   "outputs": [
    {
     "name": "stdout",
     "output_type": "stream",
     "text": [
      "RT @DonaldJTrumpJr: Trump Jr., Kid Rock to campaign for GOP Michigan Senate candidate John James https://t.co/l5I8ZOgeUa\n",
      "0.0\n",
      "RT @Phishie_Philly: President Trump not only brings back jobs but he brings back American hostages locked up abroad. How can’t ppl agree ou…\n",
      "0.0\n",
      "RT @polishprincessh: President Trump has always been know as generous person. He donates his salary for a great cause continuously. He took…\n",
      "0.8\n",
      "@Uka_baggeur @ApriliaLin @riskameliaaG Lu pernah lihat atau dengar Donald Trump di ejek dimana-mana? Dia di ketawai… https://t.co/YQlg2pe2eV\n",
      "0.0\n",
      "RT @rocksiphone: @realDonaldTrump I hope President Trump ends the Federal Reserve Bank. It’s a private bank, not Federal. It was put in pow…\n",
      "0.0\n",
      "RT @MichaelAvenatti: It was a sincere pleasure to sit down with @emilyjanefox and discuss Kavanaugh, Trump, why the Dems must change, and w…\n",
      "0.17222222222222222\n",
      "RT @MZHemingway: “A Fox News review of congressional testimony, British court records, emails and other documents indicate that at least fi…\n",
      "-0.14166666666666666\n",
      "RT @campusreform: Ky. faculty, students try and fail to shut down Trump rally https://t.co/IZorWFAJa0 @Zach_Petrizzo @realDonaldTrump @mich…\n",
      "-0.3277777777777778\n",
      "@realDonaldTrump Awww how sweet  - it's a tRump inauguration reunion and you got everyone to show up.\n",
      "0.375\n",
      "@maydaymindy9 The money would be a lot for personal use, but I’m not sure it’d make much of a difference at solving… https://t.co/eEaucnoJND\n",
      "-0.016666666666666663\n",
      "RT @chrislhayes: After a terrorist attack on a Canadian mosque by a Trump fan, I wonder if Canada will take measures for extreme vetting of…\n",
      "-0.125\n",
      "RT @patton6966: If you evangelical leaders had any clue what was coming you wouldn't oppose Gods agenda. If you had any clue how God is usi…\n",
      "0.0\n",
      "RT @essenviews: Trump is disregarding his supporters personal information by selling it to just about anyone who is willing to pay for it,…\n",
      "0.125\n",
      "RT @ProudResister: Dear @GOP,\n",
      "\n",
      "When you stood by Trump after he bragged on tape about sexual assault...\n",
      "\n",
      "Then stood by Moore after he was c…\n",
      "0.5\n",
      "RT @HeshmatAlavi: 21)\n",
      "NYT cites Trump’s UNGA speech, saying he “excoriated the ‘corrupt dictatorship in Iran’ and accused its leaders of so…\n",
      "-0.5\n"
     ]
    }
   ],
   "source": [
    "#um laço for para imprimir os tweets em seguida!\n",
    "tweets = [] #lista vazia para armazenar os scores\n",
    "for tweet in public_tweets:\n",
    "\tprint(tweet.text)\n",
    "\tanalysis = tb(tweet.text)\n",
    "\tpolarity = analysis.sentiment.polarity\n",
    "\ttweets.append(polarity)\n",
    "\tprint(polarity)"
   ]
  },
  {
   "cell_type": "code",
   "execution_count": 25,
   "metadata": {},
   "outputs": [
    {
     "name": "stdout",
     "output_type": "stream",
     "text": [
      "Média de sentimento: 0.057407407407407414\n"
     ]
    }
   ],
   "source": [
    "print(\"Média de sentimento: \" + str(np.mean(tweets)))"
   ]
  },
  {
   "cell_type": "code",
   "execution_count": null,
   "metadata": {},
   "outputs": [],
   "source": []
  }
 ],
 "metadata": {
  "kernelspec": {
   "display_name": "Python 3",
   "language": "python",
   "name": "python3"
  },
  "language_info": {
   "codemirror_mode": {
    "name": "ipython",
    "version": 3
   },
   "file_extension": ".py",
   "mimetype": "text/x-python",
   "name": "python",
   "nbconvert_exporter": "python",
   "pygments_lexer": "ipython3",
   "version": "3.6.5"
  }
 },
 "nbformat": 4,
 "nbformat_minor": 2
}
